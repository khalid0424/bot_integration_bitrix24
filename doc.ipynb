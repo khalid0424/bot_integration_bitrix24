{
 "cells": [
  {
   "cell_type": "markdown",
   "metadata": {},
   "source": [
    "Документация к Telegram-боту для продажи курсов через CRM Bitrix24\n",
    "\n",
    "Описание\n",
    "\n",
    "Этот бот позволяет пользователям выбирать курсы, тарифы и отправлять данные в CRM Bitrix24. Также реализована реферальная система."
   ]
  },
  {
   "cell_type": "markdown",
   "metadata": {},
   "source": [
    "Основные библиотеки"
   ]
  },
  {
   "cell_type": "code",
   "execution_count": null,
   "metadata": {
    "vscode": {
     "languageId": "plaintext"
    }
   },
   "outputs": [],
   "source": [
    "import telebot\n",
    "from telebot.types import InlineKeyboardMarkup, InlineKeyboardButton\n",
    "import requests\n",
    "from refral import TOKEN ,BITRIX_WEBHOOK_URL"
   ]
  },
  {
   "cell_type": "markdown",
   "metadata": {},
   "source": [
    "telebot — используется для работы с Telegram API.\n",
    "requests — для отправки HTTP-запросов в Bitrix24.\n",
    "TOKEN и BITRIX_WEBHOOK_URL импортируются из refral.py и содержат API-ключ бота и вебхук CRM."
   ]
  },
  {
   "cell_type": "markdown",
   "metadata": {},
   "source": [
    "\n",
    "\n",
    "Глобальные переменные"
   ]
  },
  {
   "cell_type": "code",
   "execution_count": null,
   "metadata": {
    "vscode": {
     "languageId": "plaintext"
    }
   },
   "outputs": [],
   "source": [
    "bot = telebot.TeleBot(TOKEN)\n",
    "user_states = {}\n",
    "referrals = {}"
   ]
  },
  {
   "cell_type": "markdown",
   "metadata": {},
   "source": [
    "bot — объект бота.\n",
    "\n",
    "user_states — словарь для хранения данных пользователей.\n",
    "\n",
    "referrals — словарь для хранения количества приглашенных пользователей"
   ]
  },
  {
   "cell_type": "markdown",
   "metadata": {},
   "source": [
    "Список курсов, доступных для покупки."
   ]
  },
  {
   "cell_type": "code",
   "execution_count": null,
   "metadata": {
    "vscode": {
     "languageId": "plaintext"
    }
   },
   "outputs": [],
   "source": [
    "courses = {\n",
    "    \"course1\": \"Wileberiser\",\n",
    "    \"course2\": \"OZON\",\n",
    "    \"course3\": \"AVITO\",\n",
    "    \"course4\": \"YANDEX MARKAT\"\n",
    "}"
   ]
  },
  {
   "cell_type": "markdown",
   "metadata": {},
   "source": [
    "Список тарифов с ценами."
   ]
  },
  {
   "cell_type": "code",
   "execution_count": null,
   "metadata": {
    "vscode": {
     "languageId": "plaintext"
    }
   },
   "outputs": [],
   "source": [
    "v=tariffs = {\n",
    "    \"tariff1\": {\"name\": \"Основной\", \"price\": 500},\n",
    "    \"tariff2\": {\"name\": \"Стандарт\", \"price\": 1000},\n",
    "    \"tariff3\": {\"name\": \"Премиум\", \"price\": 1500},\n",
    "    \"tariff4\": {\"name\": \"VIP\", \"price\": 2000}\n",
    "}"
   ]
  },
  {
   "cell_type": "markdown",
   "metadata": {},
   "source": [
    "Функции для работы с рефералам"
   ]
  },
  {
   "cell_type": "code",
   "execution_count": null,
   "metadata": {
    "vscode": {
     "languageId": "plaintext"
    }
   },
   "outputs": [],
   "source": [
    "def generate_referral_link(user_id):\n",
    "    return f\"https://t.me/your_bot?start=ref{user_id}"
   ]
  },
  {
   "cell_type": "markdown",
   "metadata": {},
   "source": [
    "Генерирует реферальную ссылку для пользователя."
   ]
  },
  {
   "cell_type": "markdown",
   "metadata": {},
   "source": [
    "Функции создания клавиатур"
   ]
  },
  {
   "cell_type": "code",
   "execution_count": null,
   "metadata": {
    "vscode": {
     "languageId": "plaintext"
    }
   },
   "outputs": [],
   "source": [
    "def create_courses_keyboard():\n",
    "    keyboard = InlineKeyboardMarkup()\n",
    "    for course_id, course_name in courses.items():\n",
    "        keyboard.add(InlineKeyboardButton(course_name, callback_data=f\"course_{course_id}\"))\n",
    "    return keyboard"
   ]
  },
  {
   "cell_type": "markdown",
   "metadata": {},
   "source": [
    "Создает клавиатуру с курсами."
   ]
  },
  {
   "cell_type": "code",
   "execution_count": null,
   "metadata": {
    "vscode": {
     "languageId": "plaintext"
    }
   },
   "outputs": [],
   "source": [
    "def create_payment_method_keyboard():\n",
    "    keyboard = InlineKeyboardMarkup()\n",
    "    keyboard.row(\n",
    "        InlineKeyboardButton(\"Онлайн\", callback_data=\"payment_online\"),\n",
    "        InlineKeyboardButton(\"Менеджер\", callback_data=\"payment_manager\")\n",
    "    )\n",
    "    return keyboard"
   ]
  },
  {
   "cell_type": "markdown",
   "metadata": {},
   "source": [
    "Клавиатура выбора метода оплаты."
   ]
  },
  {
   "cell_type": "markdown",
   "metadata": {},
   "source": [
    "Создает клавиатуру с тарифами."
   ]
  },
  {
   "cell_type": "code",
   "execution_count": null,
   "metadata": {
    "vscode": {
     "languageId": "plaintext"
    }
   },
   "outputs": [],
   "source": [
    "def create_tariffs_keyboard(course_id):\n",
    "    keyboard = InlineKeyboardMarkup()\n",
    "    for tariff_id, tariff_info in tariffs.items():\n",
    "        button_text = f\"{tariff_info['name']} - {tariff_info['price']} рубл\"\n",
    "        keyboard.add(InlineKeyboardButton(button_text, callback_data=f\"tariff_{course_id}_{tariff_id}\"))\n",
    "    return keyboard"
   ]
  },
  {
   "cell_type": "markdown",
   "metadata": {},
   "source": [
    "\n",
    "\n",
    "Обработчики команд\n",
    "\n",
    "/start — запуск бота"
   ]
  },
  {
   "cell_type": "code",
   "execution_count": null,
   "metadata": {
    "vscode": {
     "languageId": "plaintext"
    }
   },
   "outputs": [],
   "source": [
    "@bot.message_handler(commands=[\"start\"])\n",
    "def start_handler(message):\n",
    "    user_id = message.from_user.id\n",
    "    args = message.text.split()\n",
    "    \n",
    "    if len(args) > 1 and args[1].startswith(\"ref\"):\n",
    "        referrer_id = args[1][3:]\n",
    "        if referrer_id.isdigit():\n",
    "            referrer_id = int(referrer_id)\n",
    "            if referrer_id != user_id:\n",
    "                referrals.setdefault(referrer_id, 0)\n",
    "                referrals[referrer_id] += 1\n",
    "\n",
    "    referral_link = generate_referral_link(user_id)\n",
    "    user_states[user_id] = {\"referral_link\": referral_link}\n",
    "\n",
    "    keyboard = telebot.types.ReplyKeyboardMarkup(row_width=1, resize_keyboard=True)\n",
    "    button_phone = telebot.types.KeyboardButton(text=\"Отправьте свой номер телефона\", request_contact=True)\n",
    "    keyboard.add(button_phone)\n",
    "\n",
    "    bot.send_message(\n",
    "        message.chat.id,\n",
    "        \"Привет! Пожалуйста, отправьте свой номер телефона:\",\n",
    "        reply_markup=keyboard\n",
    "    )"
   ]
  },
  {
   "cell_type": "markdown",
   "metadata": {},
   "source": [
    "-Запускает бота и создает реферальную ссылку.\n",
    "\n",
    "-Проверяет, был ли пользователь приглашен.\n",
    "\n",
    "-Запрашивает номер телефона."
   ]
  },
  {
   "cell_type": "markdown",
   "metadata": {},
   "source": [
    "Получение номера телефона"
   ]
  },
  {
   "cell_type": "markdown",
   "metadata": {},
   "source": [
    "Сохраняет номер телефона и предлагает выбрать курс."
   ]
  },
  {
   "cell_type": "code",
   "execution_count": null,
   "metadata": {
    "vscode": {
     "languageId": "plaintext"
    }
   },
   "outputs": [],
   "source": [
    "@bot.message_handler(content_types=[\"contact\"])\n",
    "def contact_handler(message):\n",
    "    user_id = message.from_user.id\n",
    "    \n",
    "    if user_id not in user_states:\n",
    "        user_states[user_id] = {}\n",
    "    \n",
    "    user_states[user_id][\"phone\"] = message.contact.phone_number\n",
    "\n",
    "    bot.send_message(\n",
    "        message.chat.id,\n",
    "        \"Пожалуйста, выберите курс:\",\n",
    "        reply_markup=create_courses_keyboard()\n",
    "    )"
   ]
  },
  {
   "cell_type": "markdown",
   "metadata": {},
   "source": [
    "\n",
    "\n",
    "Выбор курса"
   ]
  },
  {
   "cell_type": "markdown",
   "metadata": {},
   "source": [
    "Сохраняет выбранный курс и предлагает выбрать метод оплаты."
   ]
  },
  {
   "cell_type": "code",
   "execution_count": null,
   "metadata": {
    "vscode": {
     "languageId": "plaintext"
    }
   },
   "outputs": [],
   "source": [
    "@bot.callback_query_handler(func=lambda call: call.data.startswith(\"course_\"))\n",
    "def course_callback(call):\n",
    "    user_id = call.from_user.id\n",
    "    course_id = call.data.split(\"_\")[1]\n",
    "    user_states[user_id][\"selected_course\"] = course_id\n",
    "\n",
    "    bot.edit_message_text(\n",
    "        \" Выберите метод оплаты:\",\n",
    "        call.message.chat.id,\n",
    "        call.message.message_id,\n",
    "        reply_markup=create_payment_method_keyboard()\n",
    "    )"
   ]
  },
  {
   "cell_type": "markdown",
   "metadata": {},
   "source": [
    "\n",
    "\n",
    "Выбор метода оплаты"
   ]
  },
  {
   "cell_type": "markdown",
   "metadata": {},
   "source": [
    "Если пользователь выбирает «Менеджер», отправляет контакт.\n",
    "\n",
    "Если выбирает «Онлайн», предлагает тарифы."
   ]
  },
  {
   "cell_type": "code",
   "execution_count": null,
   "metadata": {
    "vscode": {
     "languageId": "plaintext"
    }
   },
   "outputs": [],
   "source": [
    "@bot.callback_query_handler(func=lambda call: call.data.startswith(\"payment_\"))\n",
    "def payment_method_callback(call):\n",
    "    user_id = call.from_user.id\n",
    "    payment_method = call.data.split(\"_\")[1]\n",
    "\n",
    "    if payment_method == \"manager\":\n",
    "        bot.edit_message_text(\n",
    "            \" Свяжитесь с менеджером: @unknownnnsu\",\n",
    "            call.message.chat.id,\n",
    "            call.message.message_id\n",
    "        )\n",
    "    else:\n",
    "        course_id = user_states[user_id][\"selected_course\"]\n",
    "        bot.edit_message_text(\n",
    "            \"Пожалуйста, выберите тариф:\",\n",
    "            call.message.chat.id,\n",
    "            call.message.message_id,\n",
    "            reply_markup=create_tariffs_keyboard(course_id)\n",
    "        )"
   ]
  },
  {
   "cell_type": "markdown",
   "metadata": {},
   "source": [
    "Отправка данных в Bitrix24"
   ]
  },
  {
   "cell_type": "markdown",
   "metadata": {},
   "source": [
    "Отправляет данные сделки в CRM Bitrix24."
   ]
  },
  {
   "cell_type": "code",
   "execution_count": null,
   "metadata": {
    "vscode": {
     "languageId": "plaintext"
    }
   },
   "outputs": [],
   "source": [
    "response = requests.post(f\"{BITRIX_WEBHOOK_URL}/crm.deal.add\", json=deal_data)"
   ]
  },
  {
   "cell_type": "markdown",
   "metadata": {},
   "source": [
    "Запуск бота\n",
    "Запускает бота на постоянную работу."
   ]
  },
  {
   "cell_type": "code",
   "execution_count": null,
   "metadata": {
    "vscode": {
     "languageId": "plaintext"
    }
   },
   "outputs": [],
   "source": [
    "bot.polling(none_stop=True)"
   ]
  }
 ],
 "metadata": {
  "language_info": {
   "name": "python"
  }
 },
 "nbformat": 4,
 "nbformat_minor": 2
}
